{
  "cells": [
    {
      "cell_type": "markdown",
      "metadata": {},
      "source": [
        "\n# This is a simulation example of the Landweber class. \n\nIt is based on the generated supersmooth, smooth and rough signal of Blanchard et al. (2018). \n"
      ]
    },
    {
      "cell_type": "code",
      "execution_count": null,
      "metadata": {
        "collapsed": false
      },
      "outputs": [],
      "source": [
        "import matplotlib.pyplot as plt\nimport numpy as np\nimport EarlyStopping as es\nfrom scipy.sparse import dia_matrix\nimport timeit\n\nnp.random.seed(42)\nplt.rcParams.update({\"font.size\": 20})\nprint('The seed is 42.')"
      ]
    },
    {
      "cell_type": "markdown",
      "metadata": {},
      "source": [
        "## Plot different signals\nCreate diagonal design matrix and supersmooth, smooth and rough signal. Plot the signal.\n\n"
      ]
    },
    {
      "cell_type": "code",
      "execution_count": null,
      "metadata": {
        "collapsed": false
      },
      "outputs": [],
      "source": [
        "D = 1000\nindices = np.arange(D) + 1\ndesign_matrix = dia_matrix(np.diag(1 / (np.sqrt(indices))))\n\nsignal_supersmooth = 5 * np.exp(-0.1 * indices)\nsignal_smooth = 5000 * np.abs(np.sin(0.01 * indices)) * indices ** (-1.6)\nsignal_rough = 250 * np.abs(np.sin(0.002 * indices)) * indices ** (-0.8)\n\nplt.figure(figsize=(14, 4))\nplt.plot(indices, signal_supersmooth, label=\"supersmooth signal\")\nplt.plot(indices, signal_smooth, label=\"smooth signal\")\nplt.plot(indices, signal_rough, label=\"rough signal\")\nplt.ylabel(\"Signal\")\nplt.xlabel(\"Index\")\nplt.xlim([0, 1000])\nplt.ylim([0, 1.6])\nplt.legend(loc=\"upper right\")\nplt.show()"
      ]
    },
    {
      "cell_type": "markdown",
      "metadata": {},
      "source": [
        "## Generate data and run Landweber\nRun the Landweber algorithm and get the early stopping index as well as as the weak/strong balanced oracle.\n\n"
      ]
    },
    {
      "cell_type": "code",
      "execution_count": null,
      "metadata": {
        "collapsed": false
      },
      "outputs": [],
      "source": [
        "NOISE_LEVEL = 0.01\nnoise = np.random.normal(0, NOISE_LEVEL, D)\n\nobservation_supersmooth = noise + design_matrix @ signal_supersmooth\nobservation_smooth = noise + design_matrix @ signal_smooth\nobservation_rough = noise + design_matrix @ signal_rough\n\n\nmodels_supersmooth = es.Landweber(\n    design_matrix, observation_supersmooth, true_noise_level=NOISE_LEVEL, true_signal=signal_supersmooth\n)\nmodels_smooth = es.Landweber(design_matrix, observation_smooth, true_noise_level=NOISE_LEVEL, true_signal=signal_smooth)\nmodels_rough = es.Landweber(design_matrix, observation_rough, true_noise_level=NOISE_LEVEL, true_signal=signal_rough)\n\niter = 1500\nstart = timeit.default_timer()\nmodels_supersmooth.iterate(iter)\nstop = timeit.default_timer()\nprint(\"Time supersmooth: \", stop - start)\n\nmodels_supersmooth.landweber_estimate_collect\n\nstart = timeit.default_timer()\nmodels_smooth.iterate(iter)\nstop = timeit.default_timer()\nprint(\"Time smooth: \", stop - start)\n\nstart = timeit.default_timer()\nmodels_rough.iterate(iter)\nstop = timeit.default_timer()\nprint(\"Time rough: \", stop - start)\n\n\n# Stopping index\nsupersmooth_m = models_supersmooth.early_stopping_index\nsmooth_m = models_smooth.early_stopping_index\nrough_m = models_rough.early_stopping_index\n\n# Weak balanced oracle\nsupersmooth_weak_oracle = models_supersmooth.weak_balanced_oracle\nsmooth_weak_oracle = models_smooth.weak_balanced_oracle\nrough_weak_oracle = models_rough.weak_balanced_oracle\n\n# Strong balanced oracle\nsupersmooth_strong_oracle = models_supersmooth.strong_balanced_oracle\nsmooth_strong_oracle = models_smooth.strong_balanced_oracle\nrough_strong_oracle = models_rough.strong_balanced_oracle"
      ]
    },
    {
      "cell_type": "markdown",
      "metadata": {},
      "source": [
        "## Bias/variance decomposition for supersmooth signal\nPlot the residuals, weak and strong quantities for the supersmooth signal.\n\n"
      ]
    },
    {
      "cell_type": "code",
      "execution_count": null,
      "metadata": {
        "collapsed": false
      },
      "outputs": [],
      "source": [
        "# plt.rcParams.update({'font.size': 18})  # Update the font size\n\nfig, axs = plt.subplots(3, 1, figsize=(14, 12))\n\n\naxs[0].plot(range(0, iter + 1), models_supersmooth.residuals)\naxs[0].axvline(x=supersmooth_m, color=\"red\", linestyle=\"--\")\naxs[0].set_xlim([0, 50])\naxs[0].set_ylim([0, 20])\naxs[0].set_xlabel(\"Iteration\")\naxs[0].set_ylabel(\"Residuals\")\n\n\naxs[1].plot(range(0, iter + 1), models_supersmooth.strong_error, color=\"orange\", label=\"Error\")\naxs[1].plot(range(0, iter + 1), models_supersmooth.strong_bias2, label=\"$Bias^2$\", color=\"grey\")\naxs[1].plot(range(0, iter + 1), models_supersmooth.strong_variance, label=\"Variance\", color=\"blue\")\naxs[1].axvline(x=supersmooth_m, color=\"red\", linestyle=\"--\")\naxs[1].axvline(x=supersmooth_strong_oracle, color=\"green\", linestyle=\"--\")\naxs[1].set_xlim([0, 50])\naxs[1].set_ylim([0, 1])\naxs[1].set_xlabel(\"Iteration\")\naxs[1].set_ylabel(\"Strong Quantities\")\n\naxs[2].plot(range(0, iter + 1), models_supersmooth.weak_error, color=\"orange\", label=\"Error\")\naxs[2].plot(range(0, iter + 1), models_supersmooth.weak_bias2, label=\"$Bias^2$\", color=\"grey\")\naxs[2].plot(range(0, iter + 1), models_supersmooth.weak_variance, label=\"Variance\", color=\"blue\")\naxs[2].axvline(x=supersmooth_m, color=\"red\", linestyle=\"--\", label=r\"$\\tau$\")\naxs[2].axvline(x=supersmooth_weak_oracle, color=\"green\", linestyle=\"--\", label=\"$t$ (oracle)\")\naxs[2].set_xlim([0, 400])\naxs[2].set_ylim([0, 0.02])\naxs[2].set_xlabel(\"Iteration\")\naxs[2].set_ylabel(\"Weak Quantities\")\naxs[2].legend()\n\nplt.tight_layout()\n\nplt.show()"
      ]
    },
    {
      "cell_type": "markdown",
      "metadata": {},
      "source": [
        "## Bias/variance decomposition for smooth signal\nPlot the residuals, weak and strong quantities for the smooth signal.\n\n"
      ]
    },
    {
      "cell_type": "code",
      "execution_count": null,
      "metadata": {
        "collapsed": false
      },
      "outputs": [],
      "source": [
        "fig, axs = plt.subplots(3, 1, figsize=(14, 12))\n\naxs[0].plot(range(0, iter + 1), models_smooth.residuals)\naxs[0].axvline(x=smooth_m, color=\"red\", linestyle=\"--\")\naxs[0].set_xlim([0, 500])\naxs[0].set_ylim([0, 30])\naxs[0].set_xlabel(\"Iteration\")\naxs[0].set_ylabel(\"Residuals\")\n\naxs[1].plot(range(0, iter + 1), models_smooth.strong_error, color=\"orange\", label=\"Error\")\naxs[1].plot(range(0, iter + 1), models_smooth.strong_bias2, label=\"$Bias^2$\", color=\"grey\")\naxs[1].plot(range(0, iter + 1), models_smooth.strong_variance, label=\"Variance\", color=\"blue\")\naxs[1].axvline(x=smooth_m, color=\"red\", linestyle=\"--\")\naxs[1].axvline(x=smooth_strong_oracle, color=\"green\", linestyle=\"--\")\naxs[1].set_xlim([0, 500])\naxs[1].set_ylim([0, 50])\naxs[1].set_xlabel(\"Iteration\")\naxs[1].set_ylabel(\"Strong Quantities\")\n\naxs[2].plot(range(0, iter + 1), models_smooth.weak_error, color=\"orange\", label=\"Error\")\naxs[2].plot(range(0, iter + 1), models_smooth.weak_bias2, label=\"$Bias^2$\", color=\"grey\")\naxs[2].plot(range(0, iter + 1), models_smooth.weak_variance, label=\"Variance\", color=\"blue\")\naxs[2].axvline(x=smooth_m, color=\"red\", linestyle=\"--\", label=r\"$\\tau$\")\naxs[2].axvline(x=smooth_weak_oracle, color=\"green\", linestyle=\"--\", label=\"$t$ (oracle)\")\naxs[2].set_xlim([0, 500])\naxs[2].set_ylim([0, 0.5])\naxs[2].set_xlabel(\"Iteration\")\naxs[2].set_ylabel(\"Weak Quantities\")\naxs[2].legend()\n\nplt.tight_layout()\n\nplt.show()"
      ]
    },
    {
      "cell_type": "markdown",
      "metadata": {},
      "source": [
        "## Bias/variance decomposition for rough signal\nPlot the residuals, weak and strong quantities for the rough signal.\n\n"
      ]
    },
    {
      "cell_type": "code",
      "execution_count": null,
      "metadata": {
        "collapsed": false
      },
      "outputs": [],
      "source": [
        "fig, axs = plt.subplots(3, 1, figsize=(14, 12))\n\naxs[0].plot(range(0, iter + 1), models_rough.residuals)\naxs[0].axvline(x=rough_m, color=\"red\", linestyle=\"--\")\naxs[0].set_xlabel(\"Iteration\")\naxs[0].set_ylabel(\"Residuals\")\n\naxs[1].plot(range(0, iter + 1), models_rough.strong_error, color=\"orange\", label=\"Error\")\naxs[1].plot(range(0, iter + 1), models_rough.strong_bias2, label=\"$Bias^2$\", color=\"grey\")\naxs[1].plot(range(0, iter + 1), models_rough.strong_variance, label=\"Variance\", color=\"blue\")\naxs[1].axvline(x=rough_m, color=\"red\", linestyle=\"--\")\naxs[1].axvline(x=rough_strong_oracle, color=\"green\", linestyle=\"--\")\naxs[1].set_ylim([0, 500])\naxs[1].set_xlabel(\"Iteration\")\naxs[1].set_ylabel(\"Strong Quantities\")\n\naxs[2].plot(range(0, iter + 1), models_rough.weak_error, color=\"orange\", label=\"Error\")\naxs[2].plot(range(0, iter + 1), models_rough.weak_bias2, label=\"$Bias^2$\", color=\"grey\")\naxs[2].plot(range(0, iter + 1), models_rough.weak_variance, label=\"Variance\", color=\"blue\")\naxs[2].axvline(x=rough_m, color=\"red\", linestyle=\"--\", label=r\"$\\tau$\")\naxs[2].axvline(x=rough_weak_oracle, color=\"green\", linestyle=\"--\", label=\"$t$ (oracle)\")\naxs[2].set_xlim([0, 1200 + 1])\naxs[2].set_ylim([0, 1])\naxs[2].set_xlabel(\"Iteration\")\naxs[2].set_ylabel(\"Weak Quantities\")\naxs[2].legend()\n\nplt.tight_layout()\nplt.show()"
      ]
    },
    {
      "cell_type": "markdown",
      "metadata": {},
      "source": [
        "## Bias/variance decomposition for the gravity example\nGravity test problem from the regtools toolbox, see [Hansen (2008)](http://people.compute.dtu.dk/pcha/Regutools/RTv4manual.pdf) for details.\nPlot the residuals, weak and strong quantities.\n\n"
      ]
    },
    {
      "cell_type": "code",
      "execution_count": null,
      "metadata": {
        "collapsed": false
      },
      "outputs": [],
      "source": [
        "sample_size = 100  # 2**9\na = 0\nb = 1\nd = 0.25  # Parameter controlling the ill-posedness: the larger, the more ill-posed, default in regtools: d = 0.25\n\nt = (np.arange(1, sample_size + 1) - 0.5) / sample_size\ns = ((np.arange(1, sample_size + 1) - 0.5) * (b - a)) / sample_size\nT, S = np.meshgrid(t, s)\n\ndesign = (1 / sample_size) * d * (d**2 * np.ones((sample_size, sample_size)) + (S - T) ** 2) ** (-(3 / 2))\nsignal = np.sin(np.pi * t) + 0.5 * np.sin(2 * np.pi * t)\ndesign_times_signal = design @ signal\n\n# Set parameters\nparameter_size = sample_size\nmax_iter = 2000\nnoise_level = 10 ** (-2)\n# critical_value = sample_size * (noise_level**2)\n\n#eigen_values = np.linalg.eig(design)\n#print(f\"The eigenvalues are given by \\n {eigen_values}\")\n\n# Specify number of Monte Carlo runs\nNUMBER_RUNS = 1\n\n# Create observations\nnoise = np.random.normal(0, noise_level, (sample_size, NUMBER_RUNS))\nobservation = noise + design_times_signal[:, None]\n\nmodel_gravity = es.Landweber(design, observation[:, 0], learning_rate=1 / 30, true_signal=signal, true_noise_level=noise_level)\n\nmodel_gravity.iterate(max_iter)\n\n# Stopping index\nm_gravity = model_gravity.early_stopping_index\n\nprint(m_gravity)\n# Weak balanced oracle\nweak_oracle_gravity = model_gravity.weak_balanced_oracle\n\n# Strong balanced oracle\nstrong_oracle_gravity = model_gravity.strong_balanced_oracle\n\n\n\nfig, axs = plt.subplots(3, 1, figsize=(14, 12))\n\n\naxs[0].plot(range(0, max_iter + 1), model_gravity.residuals)\n#axs[0].axvline(x=m, color=\"red\", linestyle=\"--\")\naxs[0].set_xlim([0, 50])\naxs[0].set_ylim([0, 20])\naxs[0].set_xlabel(\"Iteration\")\naxs[0].set_ylabel(\"Residuals\")\n\n\naxs[1].plot(range(0, max_iter + 1), model_gravity.strong_error, color=\"orange\", label=\"Error\")\naxs[1].plot(range(0, max_iter + 1), model_gravity.strong_bias2, label=\"$Bias^2$\", color=\"grey\")\naxs[1].plot(range(0, max_iter + 1), model_gravity.strong_variance, label=\"Variance\", color=\"blue\")\naxs[1].axvline(x=m_gravity, color=\"red\", linestyle=\"--\")\naxs[1].axvline(x=strong_oracle_gravity, color=\"green\", linestyle=\"--\")\n#axs[1].set_xlim([0, 50])\naxs[1].set_ylim([0, 0.2])\naxs[1].set_xlabel(\"Iteration\")\naxs[1].set_ylabel(\"Strong Quantities\")\n\naxs[2].plot(range(0, max_iter + 1), model_gravity.weak_error, color=\"orange\", label=\"Error\")\naxs[2].plot(range(0, max_iter + 1), model_gravity.weak_bias2, label=\"$Bias^2$\", color=\"grey\")\naxs[2].plot(range(0, max_iter + 1), model_gravity.weak_variance, label=\"Variance\", color=\"blue\")\naxs[2].axvline(x=m_gravity, color=\"red\", linestyle=\"--\", label=r\"$\\tau$\")\naxs[2].axvline(x=weak_oracle_gravity, color=\"green\", linestyle=\"--\", label=\"$t$ (oracle)\")\n#axs[2].set_xlim([0, 400])\naxs[2].set_ylim([0, 0.002])\naxs[2].set_xlabel(\"Iteration\")\naxs[2].set_ylabel(\"Weak Quantities\")\naxs[2].legend(loc = \"upper right\")\n\nplt.tight_layout()\n\nplt.show()"
      ]
    },
    {
      "cell_type": "markdown",
      "metadata": {},
      "source": [
        "## Bias/variance decomposition for a pertubated diagonal matrix\nPlot the residuals, weak and strong quantities.\n\n"
      ]
    },
    {
      "cell_type": "code",
      "execution_count": null,
      "metadata": {
        "collapsed": false
      },
      "outputs": [],
      "source": [
        "D = 1000\nnormal_matrix = np.random.normal(0, 0.1, size=(D, D))\nindices = np.arange(D) + 1\nindices = np.arange(1, D + 1)\ndiagonal_values = 1 / np.sqrt(indices)\nnp.fill_diagonal(normal_matrix, diagonal_values)\ndesign_matrix = normal_matrix\n\nNOISE_LEVEL = 0.1\nnoise = np.random.normal(0, NOISE_LEVEL, D)\nindices = np.arange(D) + 1\nsignal_supersmooth = 5 * np.exp(-0.1 * indices)\nresponse = noise + design_matrix @ signal_supersmooth\nmax_iter = 250\n\nmodel_pertubation = es.Landweber(design_matrix, response, learning_rate = 0.01 , true_signal=signal_supersmooth, true_noise_level=NOISE_LEVEL)\n\nmodel_pertubation.iterate(max_iter)\n\n# Stopping index\nm_pertubation = model_pertubation.early_stopping_index\n\n# Weak balanced oracle\nweak_oracle_pertubation = model_pertubation.weak_balanced_oracle\n\n# Strong balanced oracle\nstrong_oracle_pertubation = model_pertubation.strong_balanced_oracle\n\n\nfig, axs = plt.subplots(3, 1, figsize=(14, 12))\n\naxs[0].plot(range(0, max_iter + 1), model_pertubation.residuals)\n# axs[0].axvline(x=m, color=\"red\", linestyle=\"--\")\n# axs[0].set_xlim([0, 50])\naxs[0].set_ylim([0, 20])\naxs[0].set_xlabel(\"Iteration\")\naxs[0].set_ylabel(\"Residuals\")\n\n\naxs[1].plot(range(0, max_iter + 1), model_pertubation.strong_error, color=\"orange\", label=\"Error\")\naxs[1].plot(range(0, max_iter + 1), model_pertubation.strong_bias2, label=\"$Bias^2$\", color=\"grey\")\naxs[1].plot(range(0, max_iter + 1), model_pertubation.strong_variance, label=\"Variance\", color=\"blue\")\naxs[1].axvline(x=m_pertubation, color=\"red\", linestyle=\"--\")\naxs[1].axvline(x=strong_oracle_pertubation, color=\"green\", linestyle=\"--\")\n# axs[1].set_xlim([0, 50])\naxs[1].set_ylim([0, 400])\naxs[1].set_xlabel(\"Iteration\")\naxs[1].set_ylabel(\"Strong Quantities\")\n\naxs[2].plot(range(0, max_iter + 1), model_pertubation.weak_error, color=\"orange\", label=\"Error\")\naxs[2].plot(range(0, max_iter + 1), model_pertubation.weak_bias2, label=\"$Bias^2$\", color=\"grey\")\naxs[2].plot(range(0, max_iter + 1), model_pertubation.weak_variance, label=\"Variance\", color=\"blue\")\naxs[2].axvline(x=m_pertubation, color=\"red\", linestyle=\"--\", label=r\"$\\tau$\")\naxs[2].axvline(x=weak_oracle_pertubation, color=\"green\", linestyle=\"--\", label=\"$t$ (oracle)\")\n# axs[2].set_xlim([0, 400])\naxs[2].set_ylim([0, 50])\naxs[2].set_xlabel(\"Iteration\")\naxs[2].set_ylabel(\"Weak Quantities\")\naxs[2].legend(loc = \"upper right\")\n\nplt.tight_layout()\n\nplt.show()"
      ]
    }
  ],
  "metadata": {
    "kernelspec": {
      "display_name": "Python 3",
      "language": "python",
      "name": "python3"
    },
    "language_info": {
      "codemirror_mode": {
        "name": "ipython",
        "version": 3
      },
      "file_extension": ".py",
      "mimetype": "text/x-python",
      "name": "python",
      "nbconvert_exporter": "python",
      "pygments_lexer": "ipython3",
      "version": "3.12.3"
    }
  },
  "nbformat": 4,
  "nbformat_minor": 0
}