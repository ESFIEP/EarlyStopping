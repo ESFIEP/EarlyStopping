{
 "cells": [
  {
   "cell_type": "code",
   "execution_count": 2,
   "id": "e0e1df2b",
   "metadata": {},
   "outputs": [],
   "source": [
    "import EarlyStopping as es\n",
    "import numpy as np"
   ]
  },
  {
   "cell_type": "code",
   "execution_count": 5,
   "id": "e5508d75",
   "metadata": {},
   "outputs": [
    {
     "name": "stdout",
     "output_type": "stream",
     "text": [
      "[ 1.38262399 -1.01024867 -1.05360926 -1.64325462  0.21723417 -0.13503996\n",
      "  0.59226734 -0.07876094 -0.61850171  0.23684341]\n"
     ]
    }
   ],
   "source": [
    "# Simulating Data\n",
    "D = 10\n",
    "mu = np.random.normal(0, 1, D)  \n",
    "lambda_ = np.ones(D)  \n",
    "Y = lambda_ * mu  \n",
    "\n",
    "estimator = es.Landweber(Y, lambda_)\n",
    "result = estimator.estimate(15)\n",
    "print(result)"
   ]
  },
  {
   "cell_type": "code",
   "execution_count": null,
   "id": "9e487db0",
   "metadata": {},
   "outputs": [],
   "source": []
  }
 ],
 "metadata": {
  "kernelspec": {
   "display_name": "myenv",
   "language": "python",
   "name": "myenv"
  },
  "language_info": {
   "codemirror_mode": {
    "name": "ipython",
    "version": 3
   },
   "file_extension": ".py",
   "mimetype": "text/x-python",
   "name": "python",
   "nbconvert_exporter": "python",
   "pygments_lexer": "ipython3",
   "version": "3.10.9"
  }
 },
 "nbformat": 4,
 "nbformat_minor": 5
}
