{
 "cells": [
  {
   "cell_type": "code",
   "execution_count": 1,
   "id": "e0e1df2b",
   "metadata": {},
   "outputs": [],
   "source": [
    "import EarlyStopping as es"
   ]
  },
  {
   "cell_type": "code",
   "execution_count": 2,
   "id": "809edffb",
   "metadata": {},
   "outputs": [
    {
     "data": {
      "text/plain": [
       "2"
      ]
     },
     "execution_count": 2,
     "metadata": {},
     "output_type": "execute_result"
    }
   ],
   "source": [
    "es.add_one(1)"
   ]
  },
  {
   "cell_type": "code",
   "execution_count": null,
   "id": "7672af95",
   "metadata": {},
   "outputs": [],
   "source": []
  }
 ],
 "metadata": {
  "kernelspec": {
   "display_name": "base",
   "language": "python",
   "name": "base"
  },
  "language_info": {
   "codemirror_mode": {
    "name": "ipython",
    "version": 3
   },
   "file_extension": ".py",
   "mimetype": "text/x-python",
   "name": "python",
   "nbconvert_exporter": "python",
   "pygments_lexer": "ipython3",
   "version": "3.9.13"
  }
 },
 "nbformat": 4,
 "nbformat_minor": 5
}
