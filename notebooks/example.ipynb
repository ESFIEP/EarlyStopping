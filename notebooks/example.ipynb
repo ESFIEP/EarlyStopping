{
 "cells": [
  {
   "cell_type": "code",
   "execution_count": 2,
   "id": "e0e1df2b",
   "metadata": {},
   "outputs": [],
   "source": [
    "import EarlyStopping as es"
   ]
  },
  {
   "cell_type": "code",
   "execution_count": 2,
   "id": "809edffb",
   "metadata": {},
   "outputs": [
    {
     "data": {
      "text/plain": [
       "2"
      ]
     },
     "execution_count": 2,
     "metadata": {},
     "output_type": "execute_result"
    }
   ],
   "source": [
    "es.add_one(1)"
   ]
  },
  {
   "cell_type": "code",
   "execution_count": 3,
   "id": "7672af95",
   "metadata": {},
   "outputs": [
    {
     "data": {
      "text/plain": [
       "3"
      ]
     },
     "execution_count": 3,
     "metadata": {},
     "output_type": "execute_result"
    }
   ],
   "source": [
    "es.add_one(2)"
   ]
  },
  {
   "cell_type": "code",
   "execution_count": null,
   "id": "9e487db0",
   "metadata": {},
   "outputs": [],
   "source": []
  }
 ],
 "metadata": {
  "kernelspec": {
   "display_name": "myenv",
   "language": "python",
   "name": "myenv"
  },
  "language_info": {
   "codemirror_mode": {
    "name": "ipython",
    "version": 3
   },
   "file_extension": ".py",
   "mimetype": "text/x-python",
   "name": "python",
   "nbconvert_exporter": "python",
   "pygments_lexer": "ipython3",
   "version": "3.10.9"
  }
 },
 "nbformat": 4,
 "nbformat_minor": 5
}
